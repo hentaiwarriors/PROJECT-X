{
 "cells": [
  {
   "cell_type": "code",
   "execution_count": 7,
   "metadata": {},
   "outputs": [],
   "source": [
    "import os\n",
    "import shutil"
   ]
  },
  {
   "cell_type": "code",
   "execution_count": 2,
   "metadata": {},
   "outputs": [
    {
     "data": {
      "text/plain": [
       "['sub', 'ass', 'Untitled.ipynb', 'srt', '.ipynb_checkpoints', 'ssa']"
      ]
     },
     "execution_count": 2,
     "metadata": {},
     "output_type": "execute_result"
    }
   ],
   "source": [
    "os.listdir()"
   ]
  },
  {
   "cell_type": "code",
   "execution_count": 3,
   "metadata": {},
   "outputs": [],
   "source": [
    "langs = {}"
   ]
  },
  {
   "cell_type": "code",
   "execution_count": 4,
   "metadata": {},
   "outputs": [],
   "source": [
    "for d in ['sub','ass','srt','ssa']:\n",
    "    for i in os.listdir(d):\n",
    "        try:\n",
    "            langs[i] += len(os.listdir(f'{d}/{i}'))\n",
    "        except:\n",
    "            langs[i] = len(os.listdir(f'{d}/{i}'))"
   ]
  },
  {
   "cell_type": "code",
   "execution_count": 5,
   "metadata": {},
   "outputs": [
    {
     "data": {
      "text/plain": [
       "{'dut': 9,\n",
       " 'rus': 2429,\n",
       " 'ita': 244,\n",
       " 'eng': 3427,\n",
       " 'ger': 371,\n",
       " 'chi': 3475,\n",
       " 'jpn': 31,\n",
       " 'spa': 817,\n",
       " 'fre': 223,\n",
       " 'chi-eng': 18,\n",
       " 'fil': 1,\n",
       " 'pol': 537,\n",
       " 'cze': 9,\n",
       " 'ind': 10,\n",
       " 'vie': 300,\n",
       " 'cat': 11,\n",
       " 'srp': 2,\n",
       " 'tur': 1,\n",
       " 'por': 431,\n",
       " 'kor': 722,\n",
       " 'sve': 1,\n",
       " 'ukr': 11,\n",
       " 'tha': 2,\n",
       " 'ara': 12,\n",
       " 'fin': 3,\n",
       " 'lit': 2,\n",
       " 'hun': 110}"
      ]
     },
     "execution_count": 5,
     "metadata": {},
     "output_type": "execute_result"
    }
   ],
   "source": [
    "langs"
   ]
  },
  {
   "cell_type": "code",
   "execution_count": 8,
   "metadata": {},
   "outputs": [],
   "source": [
    "for d in ['sub','ass','srt','ssa']:\n",
    "    for i in os.listdir(d):\n",
    "        if langs[i] < 200:\n",
    "            shutil.rmtree(f'{d}/{i}')"
   ]
  },
  {
   "cell_type": "code",
   "execution_count": 9,
   "metadata": {},
   "outputs": [],
   "source": [
    "langs = {}"
   ]
  },
  {
   "cell_type": "code",
   "execution_count": 10,
   "metadata": {},
   "outputs": [],
   "source": [
    "for d in ['sub','ass','srt','ssa']:\n",
    "    for i in os.listdir(d):\n",
    "        try:\n",
    "            langs[i] += len(os.listdir(f'{d}/{i}'))\n",
    "        except:\n",
    "            langs[i] = len(os.listdir(f'{d}/{i}'))"
   ]
  },
  {
   "cell_type": "code",
   "execution_count": 11,
   "metadata": {},
   "outputs": [
    {
     "data": {
      "text/plain": [
       "{'rus': 2429,\n",
       " 'ita': 244,\n",
       " 'eng': 3427,\n",
       " 'ger': 371,\n",
       " 'chi': 3475,\n",
       " 'spa': 817,\n",
       " 'fre': 223,\n",
       " 'pol': 537,\n",
       " 'vie': 300,\n",
       " 'por': 431,\n",
       " 'kor': 722}"
      ]
     },
     "execution_count": 11,
     "metadata": {},
     "output_type": "execute_result"
    }
   ],
   "source": [
    "langs"
   ]
  },
  {
   "cell_type": "code",
   "execution_count": null,
   "metadata": {},
   "outputs": [],
   "source": []
  }
 ],
 "metadata": {
  "kernelspec": {
   "display_name": "Python 3",
   "language": "python",
   "name": "python3"
  },
  "language_info": {
   "codemirror_mode": {
    "name": "ipython",
    "version": 3
   },
   "file_extension": ".py",
   "mimetype": "text/x-python",
   "name": "python",
   "nbconvert_exporter": "python",
   "pygments_lexer": "ipython3",
   "version": "3.6.9"
  }
 },
 "nbformat": 4,
 "nbformat_minor": 2
}
